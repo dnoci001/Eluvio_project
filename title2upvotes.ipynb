{
 "cells": [
  {
   "cell_type": "markdown",
   "metadata": {},
   "source": [
    "# Lets treat this dataframe as if it is a very large file and segment into chunks of 10000 lines"
   ]
  },
  {
   "cell_type": "code",
   "execution_count": 1,
   "metadata": {},
   "outputs": [],
   "source": [
    "import pandas as pd\n",
    "import numpy as np\n",
    "import torch\n",
    "import torch.nn as nn\n",
    "from torch import optim\n",
    "from torchtext.data.utils import get_tokenizer\n",
    "from collections import Counter\n",
    "from torchtext.vocab import Vocab\n",
    "from tqdm import tqdm"
   ]
  },
  {
   "cell_type": "code",
   "execution_count": 2,
   "metadata": {},
   "outputs": [
    {
     "name": "stdout",
     "output_type": "stream",
     "text": [
      "CPU times: user 2.19 s, sys: 59.9 ms, total: 2.25 s\n",
      "Wall time: 2.25 s\n"
     ]
    }
   ],
   "source": [
    "%%time\n",
    "chonky = 10000\n",
    "ntrain = 0\n",
    "nvalid = 0\n",
    "ntest = 0\n",
    "max_length = 0\n",
    "average_upvotes = 0\n",
    "\n",
    "modes = ['train','valid','test']\n",
    "\n",
    "for m in modes:\n",
    "    csvfile = '/home/dominique/Projects/eluvio/' + m + '.csv'\n",
    "    for num,chunk in enumerate(pd.read_csv(csvfile,chunksize=chonky)):\n",
    "        filename = m + '_chunks/chunk'+str(num)+'.csv'\n",
    "        if m == 'train':\n",
    "            ntrain += len(chunk)\n",
    "        elif m == 'valid':\n",
    "            nvalid += len(chunk)\n",
    "        else:\n",
    "            ntest += len(chunk)\n",
    "        chunk.to_csv(filename)"
   ]
  },
  {
   "cell_type": "markdown",
   "metadata": {},
   "source": [
    "# Define dataset to load from our chunks as needed"
   ]
  },
  {
   "cell_type": "code",
   "execution_count": 3,
   "metadata": {},
   "outputs": [],
   "source": [
    "class TitlesDataset(torch.utils.data.Dataset):\n",
    "    def __init__(self,mode='train'):\n",
    "        self.mode = mode\n",
    "        self.filename = None\n",
    "        self.df = None\n",
    "    \n",
    "    def __getitem__(self, idx):\n",
    "        cfilename = self.mode + '_chunks/chunk' + str(idx//chonky) + '.csv'\n",
    "        \n",
    "# check if we need to load a new chunck\n",
    "        if self.filename != cfilename:\n",
    "            self.filename = cfilename\n",
    "            self.df = pd.read_csv(cfilename)\n",
    "        \n",
    "        ind = idx%chonky\n",
    "\n",
    "        title = self.df.title.iloc[ind]\n",
    "        votes = self.df.up_votes.iloc[ind]\n",
    "        return votes,title\n",
    "        \n",
    "    def __len__(self):\n",
    "        if self.mode == 'train':\n",
    "            return ntrain\n",
    "        elif self.mode == 'valid':\n",
    "            return nvalid\n",
    "        else:\n",
    "            return ntest"
   ]
  },
  {
   "cell_type": "markdown",
   "metadata": {},
   "source": [
    "# Use the torchtext tokenizer for the titles"
   ]
  },
  {
   "cell_type": "code",
   "execution_count": 4,
   "metadata": {},
   "outputs": [
    {
     "name": "stdout",
     "output_type": "stream",
     "text": [
      "CPU times: user 11.2 s, sys: 55.8 ms, total: 11.2 s\n",
      "Wall time: 11.2 s\n"
     ]
    }
   ],
   "source": [
    "%%time\n",
    "tokenizer = get_tokenizer('basic_english')\n",
    "train_iter = TitlesDataset()\n",
    "counter = Counter()\n",
    "for (votes, line) in train_iter:\n",
    "    counter.update(tokenizer(line))\n",
    "vocab = Vocab(counter, min_freq=1)"
   ]
  },
  {
   "cell_type": "markdown",
   "metadata": {},
   "source": [
    "# Define pipline for title tokenization"
   ]
  },
  {
   "cell_type": "code",
   "execution_count": 5,
   "metadata": {},
   "outputs": [],
   "source": [
    "text_pipeline = lambda x: [vocab[token] for token in tokenizer(x)]"
   ]
  },
  {
   "cell_type": "markdown",
   "metadata": {},
   "source": [
    "# Define pipline for label based off of upvote quartiles in the training set"
   ]
  },
  {
   "cell_type": "code",
   "execution_count": 6,
   "metadata": {},
   "outputs": [],
   "source": [
    "# c4th = 10\n",
    "# c3rd = 4\n",
    "# c2nd = 1\n",
    "# label_pipeline = lambda x: 3 if x > c4th else (2 if x > c3rd else (1 if x > c2nd  else 0))"
   ]
  },
  {
   "cell_type": "code",
   "execution_count": 7,
   "metadata": {},
   "outputs": [],
   "source": [
    "label_pipeline = lambda x: 1 if x >= 5 else 0"
   ]
  },
  {
   "cell_type": "markdown",
   "metadata": {},
   "source": [
    "# Define collate function and create data loaders"
   ]
  },
  {
   "cell_type": "code",
   "execution_count": 8,
   "metadata": {},
   "outputs": [],
   "source": [
    "device = torch.device(\"cuda\" if torch.cuda.is_available() else \"cpu\")\n",
    "\n",
    "def collate_batch(batch):\n",
    "    label_list, text_list, offsets = [], [], [0]\n",
    "    for (_label, _text) in batch:\n",
    "        label_list.append(label_pipeline(_label))\n",
    "        processed_text = torch.tensor(text_pipeline(_text), dtype=torch.int64)\n",
    "        text_list.append(processed_text)\n",
    "        offsets.append(processed_text.size(0))\n",
    "    label_list = torch.tensor(label_list, dtype=torch.int64)\n",
    "    offsets = torch.tensor(offsets[:-1]).cumsum(dim=0)\n",
    "    text_list = torch.cat(text_list)\n",
    "    return label_list.to(device), text_list.to(device), offsets.to(device)\n",
    "\n",
    "trainloader = torch.utils.data.DataLoader(train_iter, batch_size=512, shuffle=False, collate_fn=collate_batch)\n",
    "valid_iter = TitlesDataset(mode='valid')\n",
    "validloader = torch.utils.data.DataLoader(valid_iter, batch_size=512, shuffle=False, collate_fn=collate_batch)"
   ]
  },
  {
   "cell_type": "markdown",
   "metadata": {},
   "source": [
    "# Define our classification model"
   ]
  },
  {
   "cell_type": "code",
   "execution_count": 9,
   "metadata": {},
   "outputs": [],
   "source": [
    "class TextClassificationModel(nn.Module):\n",
    "\n",
    "    def __init__(self, vocab_size, embed_dim,dense_dim, ndense, num_class):\n",
    "        super(TextClassificationModel, self).__init__()\n",
    "        self.embedding = nn.EmbeddingBag(vocab_size, embed_dim, sparse=True)\n",
    "        self.embed2dense = nn.Sequential(nn.Linear(embed_dim, dense_dim),\n",
    "                                  nn.ReLU(),\n",
    "                                  nn.BatchNorm1d(dense_dim))\n",
    "        \n",
    "        self.denselist = []\n",
    "\n",
    "        for i in range(ndense):\n",
    "            self.denselist.append(nn.Sequential(nn.Linear(dense_dim, dense_dim),\n",
    "                                  nn.ReLU(),\n",
    "                                  nn.BatchNorm1d(dense_dim)))\n",
    "\n",
    "        self.denselist = nn.ModuleList(self.denselist)\n",
    "\n",
    "        self.denseout = nn.Sequential(\n",
    "            nn.Linear(dense_dim, num_class),\n",
    "            nn.Softmax()\n",
    "        )\n",
    "\n",
    "\n",
    "    def forward(self, text, offsets):\n",
    "        x = self.embedding(text, offsets)\n",
    "        x = self.embed2dense(x)\n",
    "        identity = x\n",
    "        for layer in self.denselist:\n",
    "            x = layer(x)\n",
    "        x = x + identity\n",
    "        x = self.denseout(x)\n",
    "        return x"
   ]
  },
  {
   "cell_type": "markdown",
   "metadata": {},
   "source": [
    "# Define train function"
   ]
  },
  {
   "cell_type": "code",
   "execution_count": 10,
   "metadata": {},
   "outputs": [],
   "source": [
    "def train(model, trainloader, validloader, NUM_EPOCHS):\n",
    "    train_loss = []\n",
    "    valid_loss = []\n",
    "    for epoch in range(NUM_EPOCHS):\n",
    "        model.train()\n",
    "        running_loss = 0.0\n",
    "        for data in trainloader:\n",
    "            votes,title,offsets = data\n",
    "            \n",
    "\n",
    "            votes = votes.to(device)\n",
    "            title = title.to(device)\n",
    "            offsets = offsets.to(device)\n",
    "\n",
    "            optimizer.zero_grad()\n",
    "\n",
    "            pred = model(title,offsets)  \n",
    "            loss = criterion(pred, votes)\n",
    "\n",
    "            loss.backward()\n",
    "            optimizer.step()\n",
    "            running_loss += loss.item()\n",
    "            \n",
    "        loss = running_loss / len(trainloader)\n",
    "        train_loss.append(loss)\n",
    "        \n",
    "        \n",
    "        model.eval()\n",
    "        running_loss = 0.0\n",
    "\n",
    "        with torch.no_grad():\n",
    "            for data in validloader:\n",
    "                votes,title,offsets = data\n",
    "                pred = model(title, offsets)\n",
    "                loss = criterion(pred, votes)\n",
    "                running_loss += loss.item()\n",
    "\n",
    "        loss = running_loss / len(validloader)           \n",
    "        valid_loss.append(loss)\n",
    "        \n",
    "        print('-' * 50)\n",
    "        print('| epoch {:3d} | valid loss {:8.3f} | train loss {:8.3f} |'.format(epoch, valid_loss[-1], train_loss[-1]))\n",
    "        print('-' * 50)    \n",
    "\n",
    "        if valid_loss[-1] == min(valid_loss):\n",
    "            PATH = \"best_model.pt\"\n",
    "            torch.save(model.state_dict(), PATH) \n",
    "            \n",
    "        if epoch % 5 == 0:\n",
    "            scheduler.step()\n",
    "\n",
    "    return valid_loss,train_loss"
   ]
  },
  {
   "cell_type": "markdown",
   "metadata": {},
   "source": [
    "# Train model"
   ]
  },
  {
   "cell_type": "code",
   "execution_count": 11,
   "metadata": {},
   "outputs": [
    {
     "data": {
      "text/plain": [
       "TextClassificationModel(\n",
       "  (embedding): EmbeddingBag(120725, 2048, mode=mean)\n",
       "  (embed2dense): Sequential(\n",
       "    (0): Linear(in_features=2048, out_features=512, bias=True)\n",
       "    (1): ReLU()\n",
       "    (2): BatchNorm1d(512, eps=1e-05, momentum=0.1, affine=True, track_running_stats=True)\n",
       "  )\n",
       "  (denselist): ModuleList(\n",
       "    (0): Sequential(\n",
       "      (0): Linear(in_features=512, out_features=512, bias=True)\n",
       "      (1): ReLU()\n",
       "      (2): BatchNorm1d(512, eps=1e-05, momentum=0.1, affine=True, track_running_stats=True)\n",
       "    )\n",
       "    (1): Sequential(\n",
       "      (0): Linear(in_features=512, out_features=512, bias=True)\n",
       "      (1): ReLU()\n",
       "      (2): BatchNorm1d(512, eps=1e-05, momentum=0.1, affine=True, track_running_stats=True)\n",
       "    )\n",
       "    (2): Sequential(\n",
       "      (0): Linear(in_features=512, out_features=512, bias=True)\n",
       "      (1): ReLU()\n",
       "      (2): BatchNorm1d(512, eps=1e-05, momentum=0.1, affine=True, track_running_stats=True)\n",
       "    )\n",
       "    (3): Sequential(\n",
       "      (0): Linear(in_features=512, out_features=512, bias=True)\n",
       "      (1): ReLU()\n",
       "      (2): BatchNorm1d(512, eps=1e-05, momentum=0.1, affine=True, track_running_stats=True)\n",
       "    )\n",
       "  )\n",
       "  (denseout): Sequential(\n",
       "    (0): Linear(in_features=512, out_features=2, bias=True)\n",
       "    (1): Softmax(dim=None)\n",
       "  )\n",
       ")"
      ]
     },
     "execution_count": 11,
     "metadata": {},
     "output_type": "execute_result"
    }
   ],
   "source": [
    "NUM_EPOCHS = 20\n",
    "LEARNING_RATE = 1e-3\n",
    "vocab_size = len(vocab)\n",
    "embed_size = 2048\n",
    "dense_size = 512\n",
    "ndense = 4\n",
    "\n",
    "model = TextClassificationModel(vocab_size,embed_size,dense_size, ndense, 2)\n",
    "\n",
    "criterion = nn.CrossEntropyLoss()\n",
    "optimizer = torch.optim.SGD(model.parameters(), lr=LEARNING_RATE)\n",
    "scheduler = torch.optim.lr_scheduler.StepLR(optimizer, 1.0, gamma=0.5)\n",
    "model.to(device)"
   ]
  },
  {
   "cell_type": "code",
   "execution_count": 12,
   "metadata": {},
   "outputs": [
    {
     "name": "stderr",
     "output_type": "stream",
     "text": [
      "/home/dominique/anaconda3/lib/python3.8/site-packages/torch/nn/modules/container.py:119: UserWarning: Implicit dimension choice for softmax has been deprecated. Change the call to include dim=X as an argument.\n",
      "  input = module(input)\n"
     ]
    },
    {
     "name": "stdout",
     "output_type": "stream",
     "text": [
      "--------------------------------------------------\n",
      "| epoch   0 | valid loss    0.692 | train loss    0.698 |\n",
      "--------------------------------------------------\n",
      "--------------------------------------------------\n",
      "| epoch   1 | valid loss    0.690 | train loss    0.690 |\n",
      "--------------------------------------------------\n",
      "--------------------------------------------------\n",
      "| epoch   2 | valid loss    0.688 | train loss    0.687 |\n",
      "--------------------------------------------------\n",
      "--------------------------------------------------\n",
      "| epoch   3 | valid loss    0.687 | train loss    0.685 |\n",
      "--------------------------------------------------\n",
      "--------------------------------------------------\n",
      "| epoch   4 | valid loss    0.686 | train loss    0.683 |\n",
      "--------------------------------------------------\n",
      "--------------------------------------------------\n",
      "| epoch   5 | valid loss    0.685 | train loss    0.681 |\n",
      "--------------------------------------------------\n",
      "--------------------------------------------------\n",
      "| epoch   6 | valid loss    0.685 | train loss    0.679 |\n",
      "--------------------------------------------------\n",
      "--------------------------------------------------\n",
      "| epoch   7 | valid loss    0.684 | train loss    0.679 |\n",
      "--------------------------------------------------\n",
      "--------------------------------------------------\n",
      "| epoch   8 | valid loss    0.684 | train loss    0.678 |\n",
      "--------------------------------------------------\n",
      "--------------------------------------------------\n",
      "| epoch   9 | valid loss    0.684 | train loss    0.677 |\n",
      "--------------------------------------------------\n",
      "--------------------------------------------------\n",
      "| epoch  10 | valid loss    0.684 | train loss    0.677 |\n",
      "--------------------------------------------------\n",
      "--------------------------------------------------\n",
      "| epoch  11 | valid loss    0.684 | train loss    0.676 |\n",
      "--------------------------------------------------\n",
      "--------------------------------------------------\n",
      "| epoch  12 | valid loss    0.683 | train loss    0.676 |\n",
      "--------------------------------------------------\n",
      "--------------------------------------------------\n",
      "| epoch  13 | valid loss    0.683 | train loss    0.675 |\n",
      "--------------------------------------------------\n",
      "--------------------------------------------------\n",
      "| epoch  14 | valid loss    0.683 | train loss    0.675 |\n",
      "--------------------------------------------------\n",
      "--------------------------------------------------\n",
      "| epoch  15 | valid loss    0.683 | train loss    0.675 |\n",
      "--------------------------------------------------\n",
      "--------------------------------------------------\n",
      "| epoch  16 | valid loss    0.683 | train loss    0.674 |\n",
      "--------------------------------------------------\n",
      "--------------------------------------------------\n",
      "| epoch  17 | valid loss    0.683 | train loss    0.674 |\n",
      "--------------------------------------------------\n",
      "--------------------------------------------------\n",
      "| epoch  18 | valid loss    0.683 | train loss    0.674 |\n",
      "--------------------------------------------------\n",
      "--------------------------------------------------\n",
      "| epoch  19 | valid loss    0.683 | train loss    0.674 |\n",
      "--------------------------------------------------\n"
     ]
    }
   ],
   "source": [
    "valid_loss,train_loss = train(model, trainloader, validloader, NUM_EPOCHS)"
   ]
  },
  {
   "cell_type": "code",
   "execution_count": 13,
   "metadata": {},
   "outputs": [
    {
     "data": {
      "text/plain": [
       "<All keys matched successfully>"
      ]
     },
     "execution_count": 13,
     "metadata": {},
     "output_type": "execute_result"
    }
   ],
   "source": [
    "model.load_state_dict(torch.load('/home/dominique/Projects/eluvio/best_model.pt'))"
   ]
  },
  {
   "cell_type": "code",
   "execution_count": 14,
   "metadata": {},
   "outputs": [],
   "source": [
    "def predict(text, text_pipeline, model):\n",
    "    model.eval()\n",
    "    with torch.no_grad():\n",
    "        text = torch.tensor(text_pipeline(text), dtype=torch.int64)\n",
    "        text = text.to(device)\n",
    "        offset = torch.tensor([0], dtype=torch.int64)\n",
    "        offset = offset.to(device)\n",
    "        output = model(text, offset)\n",
    "        return output.argmax(1).item()"
   ]
  },
  {
   "cell_type": "code",
   "execution_count": 25,
   "metadata": {},
   "outputs": [],
   "source": [
    "import seaborn as sns\n",
    "from sklearn.metrics import confusion_matrix\n",
    "import matplotlib.pyplot as plt"
   ]
  },
  {
   "cell_type": "markdown",
   "metadata": {},
   "source": [
    "# Let's see how our model peforms on our test set"
   ]
  },
  {
   "cell_type": "code",
   "execution_count": 29,
   "metadata": {},
   "outputs": [
    {
     "name": "stderr",
     "output_type": "stream",
     "text": [
      "/home/dominique/anaconda3/lib/python3.8/site-packages/torch/nn/modules/container.py:119: UserWarning: Implicit dimension choice for softmax has been deprecated. Change the call to include dim=X as an argument.\n",
      "  input = module(input)\n"
     ]
    }
   ],
   "source": [
    "group = []\n",
    "pred_group = []\n",
    "\n",
    "for j in range(5):\n",
    "    chunkfile = '/home/dominique/Projects/eluvio/test_chunks/chunk' + str(j) + '.csv'\n",
    "    chunk = pd.read_csv(chunkfile)\n",
    "    for i in range(len(chunk)):\n",
    "        group.append(label_pipeline(chunk.at[i,'up_votes']))\n",
    "        pred_group.append(predict(chunk.at[i,'title'], text_pipeline, model))"
   ]
  },
  {
   "cell_type": "code",
   "execution_count": null,
   "metadata": {},
   "outputs": [],
   "source": [
    "cf_matrix = confusion_matrix(group,pred_group)\n",
    "sns_plot = sns.heatmap(cf_matrix, annot=True, cmap='Blues')\n",
    "plt.xlabel(\"predicted class\")\n",
    "plt.ylabel(\"actual class\")\n",
    "fig = sns_plot.get_figure()\n",
    "fig.savefig(\"confusion_mat.png\")\n",
    "plt.show()"
   ]
  },
  {
   "cell_type": "markdown",
   "metadata": {},
   "source": [
    "# Let's look at some NYTimes article titles from the World News section"
   ]
  },
  {
   "cell_type": "code",
   "execution_count": 20,
   "metadata": {},
   "outputs": [],
   "source": [
    "NYTimes_titles = []\n",
    "NYTimes_titles.append('Exit Date Is 20 Years After Attacks That Spurred Longest U.S. War')\n",
    "NYTimes_titles.append('Darius, ‘World’s Longest Rabbit,’ Is Missing')\n",
    "NYTimes_titles.append('Graduation ceremonies will be allowed in New York this spring, with restrictions.')\n",
    "NYTimes_titles.append('England reopens shops and some pubs and restaurants after three months of lockdown.')\n",
    "NYTimes_titles.append('U.S. Signals Support for Ukraine and Will Add Troops in Germany')\n",
    "NYTimes_titles.append('Taiwan Hunters Contend With Taboos, and Trials, to Uphold Tradition')\n",
    "NYTimes_titles.append('Where Boars Hog the Streets')\n",
    "NYTimes_titles.append('The N.F.L. will restrict unvaccinated coaches and staff from working with players.')\n",
    "NYTimes_titles.append('French Wine Production Ravaged by a Devastating Frost')"
   ]
  },
  {
   "cell_type": "code",
   "execution_count": 21,
   "metadata": {},
   "outputs": [
    {
     "name": "stdout",
     "output_type": "stream",
     "text": [
      "Exit Date Is 20 Years After Attacks That Spurred Longest U.S. War is in the 1 group\n",
      "\n",
      "Darius, ‘World’s Longest Rabbit,’ Is Missing is in the 0 group\n",
      "\n",
      "Graduation ceremonies will be allowed in New York this spring, with restrictions. is in the 0 group\n",
      "\n",
      "England reopens shops and some pubs and restaurants after three months of lockdown. is in the 1 group\n",
      "\n",
      "U.S. Signals Support for Ukraine and Will Add Troops in Germany is in the 1 group\n",
      "\n",
      "Taiwan Hunters Contend With Taboos, and Trials, to Uphold Tradition is in the 0 group\n",
      "\n",
      "Where Boars Hog the Streets is in the 0 group\n",
      "\n",
      "The N.F.L. will restrict unvaccinated coaches and staff from working with players. is in the 1 group\n",
      "\n",
      "French Wine Production Ravaged by a Devastating Frost is in the 0 group\n",
      "\n"
     ]
    }
   ],
   "source": [
    "for titles in NYTimes_titles:\n",
    "    group = predict(titles, text_pipeline, model)\n",
    "    print(titles,'is in the',group,'group\\n')"
   ]
  }
 ],
 "metadata": {
  "kernelspec": {
   "display_name": "Python 3",
   "language": "python",
   "name": "python3"
  },
  "language_info": {
   "codemirror_mode": {
    "name": "ipython",
    "version": 3
   },
   "file_extension": ".py",
   "mimetype": "text/x-python",
   "name": "python",
   "nbconvert_exporter": "python",
   "pygments_lexer": "ipython3",
   "version": "3.8.5"
  }
 },
 "nbformat": 4,
 "nbformat_minor": 4
}
